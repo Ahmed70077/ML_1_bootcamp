{
 "cells": [
  {
   "cell_type": "code",
   "execution_count": 54,
   "id": "2bcb75ba",
   "metadata": {},
   "outputs": [
    {
     "name": "stdout",
     "output_type": "stream",
     "text": [
      "20 <--40 <--30 <--"
     ]
    }
   ],
   "source": [
    "class Qeue():\n",
    "    def __init__(self,c):\n",
    "        self.queue=[]\n",
    "        self.c=c\n",
    "        self.front=0\n",
    "        self.size=0\n",
    "    def Push(self,data):\n",
    "        if self.size==self.c:\n",
    "            print(\"Queue is Full\")\n",
    "        else:\n",
    "            self.queue.append(data)\n",
    "            self.size+=1\n",
    "    def Pop(self):\n",
    "        if self.size==self.front:\n",
    "            print(\"Queue is empty\")\n",
    "        else:\n",
    "            self.queue.pop(0)\n",
    "            self.size -=1\n",
    "    def PrintQueue(self):\n",
    "        if self.size==self.front:\n",
    "            print(\"Queue is empty\")\n",
    "        else:\n",
    "            for i in self.queue:\n",
    "                print(i,'<--',end='')\n",
    "    def FrontValue(self):\n",
    "        if self.size==self.front:\n",
    "            print(\"Queue is empty\")\n",
    "        else:\n",
    "            print(self.queue[self.front])\n",
    "Q=Qeue(4)\n",
    "Q.Push(20)\n",
    "Q.Push(40)\n",
    "Q.Push(30)\n",
    "# Q.Push(23)\n",
    "Q.PrintQueue()\n",
    "\n",
    "        "
   ]
  },
  {
   "cell_type": "code",
   "execution_count": 50,
   "id": "20e08331",
   "metadata": {},
   "outputs": [],
   "source": [
    "Q.Push(40)\n"
   ]
  },
  {
   "cell_type": "code",
   "execution_count": 55,
   "id": "b3be0179",
   "metadata": {},
   "outputs": [
    {
     "name": "stdout",
     "output_type": "stream",
     "text": [
      "20 <--40 <--30 <--"
     ]
    }
   ],
   "source": [
    "Q.PrintQueue()"
   ]
  },
  {
   "cell_type": "code",
   "execution_count": 56,
   "id": "cc7b4df9",
   "metadata": {},
   "outputs": [],
   "source": [
    "Q.Pop()"
   ]
  },
  {
   "cell_type": "code",
   "execution_count": 57,
   "id": "5d743592",
   "metadata": {},
   "outputs": [
    {
     "name": "stdout",
     "output_type": "stream",
     "text": [
      "40 <--30 <--"
     ]
    }
   ],
   "source": [
    "Q.PrintQueue()"
   ]
  },
  {
   "cell_type": "code",
   "execution_count": null,
   "id": "67672309",
   "metadata": {},
   "outputs": [],
   "source": []
  }
 ],
 "metadata": {
  "kernelspec": {
   "display_name": "Python 3 (ipykernel)",
   "language": "python",
   "name": "python3"
  },
  "language_info": {
   "codemirror_mode": {
    "name": "ipython",
    "version": 3
   },
   "file_extension": ".py",
   "mimetype": "text/x-python",
   "name": "python",
   "nbconvert_exporter": "python",
   "pygments_lexer": "ipython3",
   "version": "3.11.5"
  }
 },
 "nbformat": 4,
 "nbformat_minor": 5
}
