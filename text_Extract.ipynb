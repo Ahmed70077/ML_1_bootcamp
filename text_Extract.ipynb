{
  "nbformat": 4,
  "nbformat_minor": 0,
  "metadata": {
    "colab": {
      "provenance": []
    },
    "kernelspec": {
      "name": "python3",
      "display_name": "Python 3"
    },
    "language_info": {
      "name": "python"
    }
  },
  "cells": [
    {
      "cell_type": "code",
      "source": [
        "!pip install \"camelot-py[cv]\" -q"
      ],
      "metadata": {
        "id": "k-U6B_obgIHr"
      },
      "execution_count": null,
      "outputs": []
    },
    {
      "cell_type": "code",
      "source": [
        "import camelot as cam"
      ],
      "metadata": {
        "id": "_we_RvZjiElk"
      },
      "execution_count": null,
      "outputs": []
    },
    {
      "cell_type": "code",
      "source": [
        "!apt-get install ghostscript"
      ],
      "metadata": {
        "colab": {
          "base_uri": "https://localhost:8080/"
        },
        "id": "a7eoOjG_iJ0t",
        "outputId": "0da71e01-a213-4e21-c196-c20d8e4fccf7"
      },
      "execution_count": null,
      "outputs": [
        {
          "output_type": "stream",
          "name": "stdout",
          "text": [
            "Reading package lists... Done\n",
            "Building dependency tree... Done\n",
            "Reading state information... Done\n",
            "ghostscript is already the newest version (9.55.0~dfsg1-0ubuntu5.6).\n",
            "0 upgraded, 0 newly installed, 0 to remove and 24 not upgraded.\n"
          ]
        }
      ]
    },
    {
      "cell_type": "code",
      "source": [
        "!apt install python3-tk ghostscript"
      ],
      "metadata": {
        "colab": {
          "base_uri": "https://localhost:8080/"
        },
        "id": "1q-7WXbAixIA",
        "outputId": "872aeedc-8a8b-41c5-f71f-aa03082f2745"
      },
      "execution_count": null,
      "outputs": [
        {
          "output_type": "stream",
          "name": "stdout",
          "text": [
            "Reading package lists... Done\n",
            "Building dependency tree... Done\n",
            "Reading state information... Done\n",
            "ghostscript is already the newest version (9.55.0~dfsg1-0ubuntu5.6).\n",
            "python3-tk is already the newest version (3.10.8-1~22.04).\n",
            "0 upgraded, 0 newly installed, 0 to remove and 24 not upgraded.\n"
          ]
        }
      ]
    },
    {
      "cell_type": "code",
      "source": [
        "import fitz  # PyMuPDF\n",
        "import re\n",
        "\n",
        "pdf_path = \"/content/meta.pdf\"\n",
        "page_number = 81\n",
        "\n",
        "# Use PyMuPDF to extract text from the specified page\n",
        "with fitz.open(pdf_path) as pdf_document:\n",
        "    page = pdf_document.load_page(79)  # Page numbers are 0-based\n",
        "    text = page.get_text()\n",
        "\n",
        "# Define a regular expression pattern to identify table-like structures in the text\n",
        "table_pattern = re.compile(r'\\b\\d{1,2}\\s+\\d{1,2}\\s+\\d{4}\\b')  # Modify as needed\n",
        "\n",
        "# Find matches in the text based on the pattern\n",
        "matches = table_pattern.findall(text)\n",
        "\n",
        "# Process the matches (you may need to adjust this based on your specific case)\n",
        "for match in matches:\n",
        "    print(match)\n"
      ],
      "metadata": {
        "id": "yZfLQqMGiSn0"
      },
      "execution_count": null,
      "outputs": []
    },
    {
      "cell_type": "code",
      "source": [
        "matches"
      ],
      "metadata": {
        "colab": {
          "base_uri": "https://localhost:8080/"
        },
        "id": "ueab0Ki3jpGv",
        "outputId": "6f647d53-51f1-4f1b-8857-703d2a2c5965"
      },
      "execution_count": null,
      "outputs": [
        {
          "output_type": "execute_result",
          "data": {
            "text/plain": [
              "[]"
            ]
          },
          "metadata": {},
          "execution_count": 39
        }
      ]
    },
    {
      "cell_type": "code",
      "source": [
        "from PyPDF2 import PdfReader\n",
        "reader = PdfReader(\"meta.pdf\")\n",
        "page = reader.pages[79]\n",
        "print(page.extract_text())\n"
      ],
      "metadata": {
        "colab": {
          "base_uri": "https://localhost:8080/"
        },
        "id": "-qRWHu29jruf",
        "outputId": "eb8d8e41-5b6a-4d54-8aed-708907dc4bfa"
      },
      "execution_count": null,
      "outputs": [
        {
          "output_type": "stream",
          "name": "stdout",
          "text": [
            "META PLATFORMS, INC. \n",
            "CONSOLIDATED BALANCE SHEETS \n",
            "(In millions, except for number of shares and par value)\n",
            "December 31,\n",
            "2021 2020\n",
            "Assets\n",
            "Current assets:\n",
            "Cash and cash equivalents $ 16,601 $ 17,576 \n",
            "Marketable securities 31,397 44,378 \n",
            "Accounts receivable, net 14,039 11,335 \n",
            "Prepaid expenses and other current assets 4,629 2,381 \n",
            "Total current assets 66,666 75,670 \n",
            "Equity investments 6,775 6,234 \n",
            "Property and equipment, net 57,809 45,633 \n",
            "Operating lease right-of-use assets 12,155 9,348 \n",
            "Intangible assets, net 634 623 \n",
            "Goodwill 19,197 19,050 \n",
            "Other assets 2,751 2,758 \n",
            "Total assets $ 165,987 $ 159,316 \n",
            "Liabilities and stockholders' equity\n",
            "Current liabilities:\n",
            "Accounts payable $ 4,083 $ 1,331 \n",
            "Partners payable 1,052 1,093 \n",
            "Operating lease liabilities, current 1,127 1,023 \n",
            "Accrued expenses and other current liabilities 14,312 11,152 \n",
            "Deferred revenue and deposits 561 382 \n",
            "Total current liabilities 21,135 14,981 \n",
            "Operating lease liabilities, non-current 12,746 9,631 \n",
            "Other liabilities 7,227 6,414 \n",
            "Total liabilities 41,108 31,026 \n",
            "Commitments and contingencies\n",
            "Stockholders' equity:\n",
            "Common stock, $0.000006 par value; 5,000 million Class A shares authorized, 2,328 \n",
            "million and 2,406 million shares issued and outstanding, as of December 31, 2021 and \n",
            "2020, respectively; 4,141 million Class B shares authorized, 413 million and 443 million \n",
            "shares issued and outstanding, as of December 31, 2021 and 2020, respectively — — \n",
            "Additional paid-in capital 55,811 50,018 \n",
            "Accumulated other comprehensive income (loss) (693) 927\n",
            "Retained earnings 69,761 77,345 \n",
            "Total stockholders' equity 124,879 128,290 \n",
            "Total liabilities and stockholders' equity $ 165,987 $ 159,316 \n",
            "See Accompanying Notes to Consolidated Financial Statements.\n",
            "79\n"
          ]
        }
      ]
    },
    {
      "cell_type": "code",
      "source": [
        "import pandas as pd"
      ],
      "metadata": {
        "id": "uqgPwAu1m9jX"
      },
      "execution_count": null,
      "outputs": []
    },
    {
      "cell_type": "code",
      "source": [],
      "metadata": {
        "id": "kfxI_vf1m7jX"
      },
      "execution_count": null,
      "outputs": []
    }
  ]
}