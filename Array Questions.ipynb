{
 "cells": [
  {
   "cell_type": "code",
   "execution_count": 19,
   "id": "2d5932dd",
   "metadata": {},
   "outputs": [
    {
     "data": {
      "text/plain": [
       "[1, 3]"
      ]
     },
     "execution_count": 19,
     "metadata": {},
     "output_type": "execute_result"
    }
   ],
   "source": [
    "def twosum(arr,n,target):\n",
    "    for i in range(n-1):\n",
    "        for j in range(i+1,n):\n",
    "            if arr[i]+arr[j]==target:\n",
    "                return [i,j]\n",
    "    return 0\n",
    "arr=[3,4,2,7]\n",
    "n=len(arr)\n",
    "target=11\n",
    "twosum(arr,n,target)\n",
    "\n",
    "        "
   ]
  },
  {
   "cell_type": "code",
   "execution_count": 23,
   "id": "5f6f7d12",
   "metadata": {},
   "outputs": [
    {
     "data": {
      "text/plain": [
       "[8, 7, 6, 5, 4, 3, 2, 1]"
      ]
     },
     "execution_count": 23,
     "metadata": {},
     "output_type": "execute_result"
    }
   ],
   "source": [
    "def reverseOfArray(arr):\n",
    "    n=len(arr)\n",
    "    start=0\n",
    "    end=n-1\n",
    "    while start<=end:\n",
    "        arr[start],arr[end]=arr[end],arr[start]\n",
    "        start+=1\n",
    "        end-=1\n",
    "    return arr\n",
    "arr=[1,2,3,4,5,6,7,8]\n",
    "reverseOfArray(arr)\n",
    "    "
   ]
  },
  {
   "cell_type": "code",
   "execution_count": 30,
   "id": "4d6ca6a3",
   "metadata": {},
   "outputs": [
    {
     "name": "stdout",
     "output_type": "stream",
     "text": [
      "1\n",
      "4\n"
     ]
    }
   ],
   "source": [
    "def Maxamin(arr,n):\n",
    "    for i in range(n):\n",
    "        \n",
    "        for j in range(n-i-1):\n",
    "            \n",
    "            if arr[j]>arr[j+1]:\n",
    "                temp=arr[j]\n",
    "                arr[j]=arr[j+1]\n",
    "                arr[j+1]=temp\n",
    "    return arr\n",
    "arr=[3,1,4,2]\n",
    "n=len(arr)\n",
    "arr1=Maxamin(arr,n)\n",
    "print(arr1[0])\n",
    "print(arr1[-1])\n",
    "\n",
    "\n",
    "\n",
    "                \n",
    "        \n",
    "                \n",
    "    "
   ]
  },
  {
   "cell_type": "code",
   "execution_count": 34,
   "id": "7fe9229a",
   "metadata": {},
   "outputs": [
    {
     "name": "stdout",
     "output_type": "stream",
     "text": [
      "[1]\n"
     ]
    }
   ],
   "source": [
    "def Duplicate(arr,n):\n",
    "    a=[]\n",
    "    for i in range(n):\n",
    "        for j in range(i+1,n-1):\n",
    "            if arr[i]==arr[j]:\n",
    "                a.append(arr[i])\n",
    "    print(a)\n",
    "    \n",
    "arr=[1,2,1,3,5]\n",
    "n=len(arr)\n",
    "Duplicate(arr,n)\n",
    "            \n",
    "\n",
    "    \n"
   ]
  },
  {
   "cell_type": "code",
   "execution_count": 41,
   "id": "be9db552",
   "metadata": {},
   "outputs": [
    {
     "name": "stdout",
     "output_type": "stream",
     "text": [
      "10\n"
     ]
    }
   ],
   "source": [
    "def kaden(arr,n):\n",
    "    currmax=0\n",
    "    maximum=0\n",
    "    for i in range(n):\n",
    "        currmax=currmax+arr[i]\n",
    "        if currmax>maximum:\n",
    "            maximum=currmax\n",
    "        if currmax==0:\n",
    "            currmax=0\n",
    "    print(maximum)\n",
    "arr=[5,-4,2,6,1]\n",
    "n=len(arr)\n",
    "kaden(arr,n)\n",
    "    "
   ]
  },
  {
   "cell_type": "code",
   "execution_count": null,
   "id": "ea2248f4",
   "metadata": {},
   "outputs": [],
   "source": []
  }
 ],
 "metadata": {
  "kernelspec": {
   "display_name": "Python 3 (ipykernel)",
   "language": "python",
   "name": "python3"
  },
  "language_info": {
   "codemirror_mode": {
    "name": "ipython",
    "version": 3
   },
   "file_extension": ".py",
   "mimetype": "text/x-python",
   "name": "python",
   "nbconvert_exporter": "python",
   "pygments_lexer": "ipython3",
   "version": "3.11.5"
  }
 },
 "nbformat": 4,
 "nbformat_minor": 5
}
