{
 "cells": [
  {
   "cell_type": "code",
   "execution_count": 1,
   "id": "eceed1ef",
   "metadata": {},
   "outputs": [
    {
     "name": "stdout",
     "output_type": "stream",
     "text": [
      "Collecting labelImg\n",
      "  Downloading labelImg-1.8.6.tar.gz (247 kB)\n",
      "     ---------------------------------------- 0.0/247.7 kB ? eta -:--:--\n",
      "     - -------------------------------------- 10.2/247.7 kB ? eta -:--:--\n",
      "     ---- -------------------------------- 30.7/247.7 kB 262.6 kB/s eta 0:00:01\n",
      "     --------- --------------------------- 61.4/247.7 kB 365.7 kB/s eta 0:00:01\n",
      "     ----------------- ------------------ 122.9/247.7 kB 658.7 kB/s eta 0:00:01\n",
      "     ----------------------------- ------ 204.8/247.7 kB 892.5 kB/s eta 0:00:01\n",
      "     ------------------------------------ 247.7/247.7 kB 949.7 kB/s eta 0:00:00\n",
      "  Preparing metadata (setup.py): started\n",
      "  Preparing metadata (setup.py): finished with status 'done'\n",
      "Requirement already satisfied: pyqt5 in c:\\users\\hp\\anaconda3\\lib\\site-packages (from labelImg) (5.15.7)\n",
      "Requirement already satisfied: lxml in c:\\users\\hp\\anaconda3\\lib\\site-packages (from labelImg) (4.9.3)\n",
      "Requirement already satisfied: PyQt5-sip<13,>=12.11 in c:\\users\\hp\\anaconda3\\lib\\site-packages (from pyqt5->labelImg) (12.11.0)\n",
      "Building wheels for collected packages: labelImg\n",
      "  Building wheel for labelImg (setup.py): started\n",
      "  Building wheel for labelImg (setup.py): finished with status 'done'\n",
      "  Created wheel for labelImg: filename=labelImg-1.8.6-py2.py3-none-any.whl size=261578 sha256=7eea563d561791fc7c69b49ce445671c41cdcf7f3d130156e1abead8706cad6e\n",
      "  Stored in directory: c:\\users\\hp\\appdata\\local\\pip\\cache\\wheels\\79\\90\\db\\e0700438d3647c0209061d77992c901d3c786a56fec574ac86\n",
      "Successfully built labelImg\n",
      "Installing collected packages: labelImg\n",
      "Successfully installed labelImg-1.8.6\n",
      "Note: you may need to restart the kernel to use updated packages.\n"
     ]
    }
   ],
   "source": [
    "pip install labelImg"
   ]
  },
  {
   "cell_type": "code",
   "execution_count": 2,
   "id": "ceb0d930",
   "metadata": {},
   "outputs": [
    {
     "ename": "NameError",
     "evalue": "name '__version__' is not defined",
     "output_type": "error",
     "traceback": [
      "\u001b[1;31m---------------------------------------------------------------------------\u001b[0m",
      "\u001b[1;31mNameError\u001b[0m                                 Traceback (most recent call last)",
      "Cell \u001b[1;32mIn[2], line 1\u001b[0m\n\u001b[1;32m----> 1\u001b[0m \u001b[38;5;28mprint\u001b[39m(__version__)\n",
      "\u001b[1;31mNameError\u001b[0m: name '__version__' is not defined"
     ]
    }
   ],
   "source": []
  },
  {
   "cell_type": "code",
   "execution_count": null,
   "id": "254811e4",
   "metadata": {},
   "outputs": [],
   "source": []
  }
 ],
 "metadata": {
  "kernelspec": {
   "display_name": "Python 3 (ipykernel)",
   "language": "python",
   "name": "python3"
  },
  "language_info": {
   "codemirror_mode": {
    "name": "ipython",
    "version": 3
   },
   "file_extension": ".py",
   "mimetype": "text/x-python",
   "name": "python",
   "nbconvert_exporter": "python",
   "pygments_lexer": "ipython3",
   "version": "3.11.5"
  }
 },
 "nbformat": 4,
 "nbformat_minor": 5
}
