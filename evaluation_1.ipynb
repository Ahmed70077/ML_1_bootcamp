{
 "cells": [
  {
   "cell_type": "markdown",
   "id": "3443b3de",
   "metadata": {},
   "source": [
    "### Question 1\n",
    "Given a list of integers nums and an integer target, return <i>indices of the two numbers such that they add up to target<i>. <br>\n",
    "\n",
    "Example 1:<br>\n",
    "\n",
    "Input: nums = [2,7,11,15], target = 9<br>\n",
    "Output: [0,1]"
   ]
  },
  {
   "cell_type": "code",
   "execution_count": 81,
   "id": "ff1e5aa2",
   "metadata": {},
   "outputs": [
    {
     "data": {
      "text/plain": [
       "[1, 3]"
      ]
     },
     "execution_count": 81,
     "metadata": {},
     "output_type": "execute_result"
    }
   ],
   "source": [
    "def chkPair(A, size, x):\n",
    "    for i in range(0, size - 1):\n",
    "        for j in range(i + 1, size):\n",
    "            if (A[i] + A[j] == x):\n",
    "                return [i,j]\n",
    "    return 0\n",
    "\n",
    "chkPair([2,7,11,15],4,9)\n"
   ]
  },
  {
   "cell_type": "code",
   "execution_count": 73,
   "id": "83e210c0",
   "metadata": {},
   "outputs": [
    {
     "name": "stdout",
     "output_type": "stream",
     "text": [
      "False\n"
     ]
    }
   ],
   "source": [
    "def palindrome(x):\n",
    "    revrse=0\n",
    "    orignal=x\n",
    "    while x!=0:\n",
    "        num=x%10\n",
    "        revrse=num+revrse*10\n",
    "        x=x//10\n",
    "    if revrse==orignal:\n",
    "        print(\"True\")\n",
    "    else:\n",
    "        print(\"False\")\n",
    "    \n",
    "palindrome(564)"
   ]
  },
  {
   "cell_type": "markdown",
   "id": "a2f1a21b",
   "metadata": {},
   "source": [
    "### Question 3\n",
    "Given two strings needle and haystack, return the index of the first occurrence of needle in haystack, or -1 if needle is not part of haystack.<br>\n",
    "\n",
    "Example 1:<br>\n",
    "Input: haystack = \"sadbutsad\", needle = \"sad\" <br>\n",
    "Output: 0<br>\n",
    "Explanation: \"sad\" occurs at index 0 and 6.<br>\n",
    "The first occurrence is at index 0, so we return 0.<br>\n",
    "\n",
    "Example 2:<br>\n",
    "Input: haystack = \"apple\", needle = \"appo\"<br>\n",
    "Output: -1<br>\n",
    "Explanation: \"leeto\" did not occur in \"leetcode\", so we return -1.<br>"
   ]
  },
  {
   "cell_type": "code",
   "execution_count": 83,
   "id": "d4aeb342",
   "metadata": {},
   "outputs": [
    {
     "data": {
      "text/plain": [
       "0"
      ]
     },
     "execution_count": 83,
     "metadata": {},
     "output_type": "execute_result"
    }
   ],
   "source": [
    "def Stringcheck():\n",
    "    s1='sadbusted'\n",
    "    s2='sad'\n",
    "    if s2 in s1:\n",
    "        return 0\n",
    "    else:\n",
    "        return -1\n",
    "Stringcheck()\n",
    "    "
   ]
  },
  {
   "cell_type": "markdown",
   "id": "916e39e1",
   "metadata": {},
   "source": [
    "### Question 4\n",
    "\n",
    "Enter a number and have the program generate the Fibonacci sequence to that number or to the Nth number."
   ]
  },
  {
   "cell_type": "code",
   "execution_count": 74,
   "id": "08ce810d",
   "metadata": {
    "scrolled": true
   },
   "outputs": [
    {
     "name": "stdout",
     "output_type": "stream",
     "text": [
      "1\n",
      "2\n",
      "3\n",
      "5\n",
      "8\n",
      "13\n",
      "21\n",
      "34\n"
     ]
    }
   ],
   "source": [
    "def fib(n):\n",
    "    n1,n2=0,1\n",
    "    next_num=n2\n",
    "    while n!=0:\n",
    "        print(next_num)\n",
    "        n-=1\n",
    "        n1,n2=n2,next_num\n",
    "        next_num=n1+n2\n",
    "fib(8)"
   ]
  },
  {
   "cell_type": "markdown",
   "id": "1f0c9bfa",
   "metadata": {},
   "source": [
    "### Question 5\n",
    "Given two integers, return True if the sum of the integers is 20 or if one of the integers is 20. If not, return False"
   ]
  },
  {
   "cell_type": "code",
   "execution_count": 34,
   "id": "4030ce7f",
   "metadata": {},
   "outputs": [
    {
     "data": {
      "text/plain": [
       "True"
      ]
     },
     "execution_count": 34,
     "metadata": {},
     "output_type": "execute_result"
    }
   ],
   "source": [
    "def check_int(x,y):\n",
    "    if x+y==20 or x==20 or y==20:\n",
    "        return True\n",
    "    else:\n",
    "        return False\n",
    "check_int(20,1)\n",
    "check_int(10,10)"
   ]
  },
  {
   "cell_type": "markdown",
   "id": "947855f9",
   "metadata": {},
   "source": [
    "### Question 6\n",
    "\n",
    "Convert Celsius to Fahrenheit (Use list comprehension)<br>\n",
    "celsius = [0,10,20.1,34.5]"
   ]
  },
  {
   "cell_type": "code",
   "execution_count": 40,
   "id": "ee590475",
   "metadata": {},
   "outputs": [
    {
     "data": {
      "text/plain": [
       "[32.0, 50.0, 68.18, 94.1]"
      ]
     },
     "execution_count": 40,
     "metadata": {},
     "output_type": "execute_result"
    }
   ],
   "source": [
    "celsius = [0,10,20.1,34.5]\n",
    "F=[fah*9/5+32 for fah in celsius]\n",
    "F\n"
   ]
  },
  {
   "cell_type": "markdown",
   "id": "26d6af81",
   "metadata": {},
   "source": [
    "### Question 7\n",
    "\n",
    "Create a simple program to manage a stack? The stack should have a maximum limit of 10 elements. Include two functions: one for adding (pushing) an element to the stack and another for removing (popping) an element from the stack. If the stack is full and someone tries to add an element, return a message saying the stack is full. If the stack is empty and someone tries to remove an element, return a message saying the stack is empty and no element can be removed.<br>\n",
    "\n",
    "<b>Note:</b> Stack follows FIFO (first in first out) rule"
   ]
  },
  {
   "cell_type": "code",
   "execution_count": null,
   "id": "da16794b",
   "metadata": {},
   "outputs": [],
   "source": [
    "class Stack():\n",
    "    def __init__(self,li):\n",
    "        self.li=li\n",
    "    def isempty(self):\n",
    "        if len(self.li)==0:\n",
    "            print(\"List is empty\")\n",
    "    def isfull(self):\n",
    "        if len(self.li)==10:\n",
    "            print(\"List is full\")\n",
    "    def add(self,val):\n",
    "        if is not isfull():\n",
    "            self.li.append(value)\n",
    "    def remove(self):\n",
    "        if is not isempty():\n",
    "            \n",
    "            \n",
    "    "
   ]
  },
  {
   "cell_type": "markdown",
   "id": "c34f3ddd",
   "metadata": {},
   "source": [
    "### Question 8\n",
    "\n",
    "Create a function which will take list as an input argument! If a number can be divided evenly by 3, print \"fizz.\" If it can be divided evenly by 5, print \"buzz.\" And if it can be divided evenly by both 3 and 5, print \"fizzbuzz.\"<br>\n",
    "<b>Note:</b>Use max two conditional statements."
   ]
  },
  {
   "cell_type": "code",
   "execution_count": 67,
   "id": "483439fb",
   "metadata": {},
   "outputs": [
    {
     "name": "stdout",
     "output_type": "stream",
     "text": [
      "fizz\n"
     ]
    }
   ],
   "source": [
    "def Numcheck(n):\n",
    "    if n%3==0:\n",
    "        print('fizz')\n",
    "    elif n%5==0 and n%3==0:\n",
    "            print(\"fizzbuzz\")\n",
    "        \n",
    "    elif n%5==0:\n",
    "        print('buzz')\n",
    "Numcheck(6)"
   ]
  },
  {
   "cell_type": "code",
   "execution_count": null,
   "id": "4e94b096",
   "metadata": {},
   "outputs": [],
   "source": []
  }
 ],
 "metadata": {
  "kernelspec": {
   "display_name": "Python 3 (ipykernel)",
   "language": "python",
   "name": "python3"
  },
  "language_info": {
   "codemirror_mode": {
    "name": "ipython",
    "version": 3
   },
   "file_extension": ".py",
   "mimetype": "text/x-python",
   "name": "python",
   "nbconvert_exporter": "python",
   "pygments_lexer": "ipython3",
   "version": "3.11.5"
  }
 },
 "nbformat": 4,
 "nbformat_minor": 5
}
