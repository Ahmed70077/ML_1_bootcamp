{
 "cells": [
  {
   "cell_type": "markdown",
   "id": "7ec98f23",
   "metadata": {},
   "source": [
    "### Questions 1\n",
    "\n",
    "Create a matrix of 5x5 with random integers, after that swap its first and last rows."
   ]
  },
  {
   "cell_type": "code",
   "execution_count": 76,
   "id": "fbab7daa",
   "metadata": {},
   "outputs": [],
   "source": [
    "import numpy as np"
   ]
  },
  {
   "cell_type": "code",
   "execution_count": 77,
   "id": "34e70664",
   "metadata": {},
   "outputs": [
    {
     "data": {
      "text/plain": [
       "array([[3, 3, 3, 3, 2],\n",
       "       [3, 1, 3, 0, 0],\n",
       "       [3, 3, 1, 2, 1],\n",
       "       [0, 1, 0, 3, 3],\n",
       "       [0, 0, 1, 1, 3]])"
      ]
     },
     "execution_count": 77,
     "metadata": {},
     "output_type": "execute_result"
    }
   ],
   "source": [
    "a=np.random.randint(0,4,25).reshape(5,5)\n",
    "a"
   ]
  },
  {
   "cell_type": "code",
   "execution_count": 78,
   "id": "bb5619a8",
   "metadata": {},
   "outputs": [],
   "source": [
    "a[0, :], a[-1, :] = a[-1, :].copy(), a[0, :].copy()"
   ]
  },
  {
   "cell_type": "code",
   "execution_count": 79,
   "id": "13ebb990",
   "metadata": {},
   "outputs": [
    {
     "data": {
      "text/plain": [
       "array([[0, 0, 1, 1, 3],\n",
       "       [3, 1, 3, 0, 0],\n",
       "       [3, 3, 1, 2, 1],\n",
       "       [0, 1, 0, 3, 3],\n",
       "       [3, 3, 3, 3, 2]])"
      ]
     },
     "execution_count": 79,
     "metadata": {},
     "output_type": "execute_result"
    }
   ],
   "source": [
    "a"
   ]
  },
  {
   "cell_type": "markdown",
   "id": "804d6649",
   "metadata": {},
   "source": [
    "### Question 2\n",
    "\n",
    "Create a 2D array, remove all rows that contain at least one zero."
   ]
  },
  {
   "cell_type": "code",
   "execution_count": 83,
   "id": "26e7b7e4",
   "metadata": {},
   "outputs": [
    {
     "data": {
      "text/plain": [
       "array([[3, 3, 1, 2, 1],\n",
       "       [3, 3, 3, 3, 2]])"
      ]
     },
     "execution_count": 83,
     "metadata": {},
     "output_type": "execute_result"
    }
   ],
   "source": [
    "arr = np.array([row for row in a if not any(e == 0 for e in row)])\n",
    "arr\n"
   ]
  },
  {
   "cell_type": "markdown",
   "id": "2eaedae6",
   "metadata": {},
   "source": [
    "### Question 3\n",
    "\n",
    "Write a NumPy program to find the real and imaginary parts of an array of complex numbers.<br>\n",
    "Original array [ 1.00000000+0.j 0.70710678+0.70710678j]"
   ]
  },
  {
   "cell_type": "code",
   "execution_count": 49,
   "id": "5e2d4526",
   "metadata": {},
   "outputs": [
    {
     "data": {
      "text/plain": [
       "array([1.        , 0.70710678])"
      ]
     },
     "execution_count": 49,
     "metadata": {},
     "output_type": "execute_result"
    }
   ],
   "source": [
    "a=[1.00000000+0.j, 0.70710678+0.70710678j]\n",
    "np.real(a)"
   ]
  },
  {
   "cell_type": "code",
   "execution_count": 50,
   "id": "df5dc29a",
   "metadata": {},
   "outputs": [
    {
     "data": {
      "text/plain": [
       "array([0.        , 0.70710678])"
      ]
     },
     "execution_count": 50,
     "metadata": {},
     "output_type": "execute_result"
    }
   ],
   "source": [
    "np.imag(a)"
   ]
  },
  {
   "cell_type": "markdown",
   "id": "5d22a191",
   "metadata": {},
   "source": [
    "### Question 4\n",
    "\n",
    "Write a NumPy program to remove the duplicate elements of an array.<br>\n",
    "Original array:\n",
    "[10 10 20 20 30 30]\n"
   ]
  },
  {
   "cell_type": "code",
   "execution_count": 94,
   "id": "39a6deaf",
   "metadata": {},
   "outputs": [
    {
     "data": {
      "text/plain": [
       "[10, 20, 30]"
      ]
     },
     "execution_count": 94,
     "metadata": {},
     "output_type": "execute_result"
    }
   ],
   "source": [
    "def Duplicate(arr):\n",
    "    items=[]\n",
    "    for i in arr:\n",
    "        if i not in items:\n",
    "            items.append(i)\n",
    "    return items\n",
    "arr=[10,10,20,20,30,30]\n",
    "d=Duplicate(arr)\n",
    "d\n",
    "            \n",
    "    \n",
    "    \n",
    "\n",
    "            \n"
   ]
  },
  {
   "cell_type": "markdown",
   "id": "80f3538a",
   "metadata": {},
   "source": [
    "### Question 5\n",
    "\n",
    "Write a NumPy program to create a 3x3x3 array with random values."
   ]
  },
  {
   "cell_type": "code",
   "execution_count": 12,
   "id": "462e67c5",
   "metadata": {},
   "outputs": [
    {
     "data": {
      "text/plain": [
       "array([[[2, 3, 2],\n",
       "        [1, 0, 2],\n",
       "        [2, 3, 3]],\n",
       "\n",
       "       [[3, 2, 2],\n",
       "        [2, 2, 0],\n",
       "        [0, 3, 3]],\n",
       "\n",
       "       [[3, 0, 1],\n",
       "        [0, 3, 3],\n",
       "        [3, 1, 2]]])"
      ]
     },
     "execution_count": 12,
     "metadata": {},
     "output_type": "execute_result"
    }
   ],
   "source": [
    "a=np.random.randint(0,4,27).reshape(3,3,3)\n",
    "a"
   ]
  },
  {
   "cell_type": "markdown",
   "id": "abd66406",
   "metadata": {},
   "source": [
    "### Question 6\n",
    "\n",
    "Write a NumPy program to create a random vector of size 10 and sort it.\n",
    "<b>Note:<\\b> Do not use builtin sorting function"
   ]
  },
  {
   "cell_type": "code",
   "execution_count": 20,
   "id": "9282c068",
   "metadata": {},
   "outputs": [
    {
     "data": {
      "text/plain": [
       "array([1, 2, 3, 4])"
      ]
     },
     "execution_count": 20,
     "metadata": {},
     "output_type": "execute_result"
    }
   ],
   "source": [
    "def Sort(arr,n):\n",
    "    for i in range(n):\n",
    "        \n",
    "        for j in range(n-i-1):\n",
    "            \n",
    "            if arr[j]>arr[j+1]:\n",
    "                temp=arr[j]\n",
    "                arr[j]=arr[j+1]\n",
    "                arr[j+1]=temp\n",
    "    return arr\n",
    "arr=np.array([3,1,4,2])\n",
    "n=len(arr)\n",
    "arr1=Sort(arr,n)\n",
    "arr1"
   ]
  },
  {
   "cell_type": "markdown",
   "id": "e0c1e8bb",
   "metadata": {},
   "source": [
    "### Question 7\n",
    "\n",
    "Write a NumPy program to check two random arrays are equal or not."
   ]
  },
  {
   "cell_type": "code",
   "execution_count": 106,
   "id": "e9c571cc",
   "metadata": {},
   "outputs": [
    {
     "data": {
      "text/plain": [
       "False"
      ]
     },
     "execution_count": 106,
     "metadata": {},
     "output_type": "execute_result"
    }
   ],
   "source": [
    "def checkArrays(arr4, arr5, n, m):\n",
    "    if n != m:\n",
    "        return False\n",
    "    arr4=Sort(arr4,n)\n",
    "    arr5=Sort(arr5,m)\n",
    "    for i in range(n):\n",
    "        if arr4[i] != arr5[i]:\n",
    "            return False\n",
    "    return True\n",
    "\n",
    "arr4 = np.array([2, 1, 2, 4])\n",
    "arr5 = np.array([2, 1, 3, 4])\n",
    "n = len(arr4)\n",
    "m = len(arr5)\n",
    "checkArrays(arr4, arr5, n, m)"
   ]
  },
  {
   "cell_type": "markdown",
   "id": "234405fe",
   "metadata": {},
   "source": [
    "### Question 8 \n",
    "\n",
    "Write a NumPy program to sort a given array of shape 2 along the first axis, last axis and on flattened array.<br>\n",
    "\n",
    "Original array:<br>\n",
    "[[10 40]<br>\n",
    "[30 20]]"
   ]
  },
  {
   "cell_type": "code",
   "execution_count": 64,
   "id": "1b349b99",
   "metadata": {},
   "outputs": [
    {
     "data": {
      "text/plain": [
       "array([[10, 20],\n",
       "       [30, 40]])"
      ]
     },
     "execution_count": 64,
     "metadata": {},
     "output_type": "execute_result"
    }
   ],
   "source": [
    "arr3=np.array([[10,40],\n",
    "               [30,20]])\n",
    "np.sort(arr3,axis=0)"
   ]
  },
  {
   "cell_type": "markdown",
   "id": "2467ff08",
   "metadata": {},
   "source": [
    "### Question 9\n",
    "\n",
    "Write a NumPy program to get the floor, ceiling and truncated values of the elements of a numpy array.<br>\n",
    "\n",
    "Original array:<br>\n",
    "[-1.6 -1.5 -0.3 0.1 1.4 1.8 2. ]"
   ]
  },
  {
   "cell_type": "code",
   "execution_count": 27,
   "id": "8fa2a543",
   "metadata": {},
   "outputs": [
    {
     "data": {
      "text/plain": [
       "array([-2., -2., -1.,  0.,  1.,  1.,  2.])"
      ]
     },
     "execution_count": 27,
     "metadata": {},
     "output_type": "execute_result"
    }
   ],
   "source": [
    "a=[-1.6,-1.5,-0.3,0.1,1.4,1.8 ,2. ]\n",
    "np.floor(a)"
   ]
  },
  {
   "cell_type": "code",
   "execution_count": 29,
   "id": "aa2988a1",
   "metadata": {},
   "outputs": [
    {
     "data": {
      "text/plain": [
       "array([-1., -1., -0.,  1.,  2.,  2.,  2.])"
      ]
     },
     "execution_count": 29,
     "metadata": {},
     "output_type": "execute_result"
    }
   ],
   "source": [
    "np.ceil(a)\n"
   ]
  },
  {
   "cell_type": "code",
   "execution_count": 30,
   "id": "456f41f9",
   "metadata": {},
   "outputs": [
    {
     "data": {
      "text/plain": [
       "array([-1., -1., -0.,  0.,  1.,  1.,  2.])"
      ]
     },
     "execution_count": 30,
     "metadata": {},
     "output_type": "execute_result"
    }
   ],
   "source": [
    "np.trunc(a)"
   ]
  },
  {
   "cell_type": "markdown",
   "id": "9434026c",
   "metadata": {},
   "source": [
    "### Questions 10\n",
    "\n",
    "Write a NumPy program to display all the dates for the month of March, 2017"
   ]
  },
  {
   "cell_type": "code",
   "execution_count": 32,
   "id": "67332471",
   "metadata": {},
   "outputs": [
    {
     "data": {
      "text/plain": [
       "array(['2017-03-01', '2017-03-02', '2017-03-03', '2017-03-04',\n",
       "       '2017-03-05', '2017-03-06', '2017-03-07', '2017-03-08',\n",
       "       '2017-03-09', '2017-03-10', '2017-03-11', '2017-03-12',\n",
       "       '2017-03-13', '2017-03-14', '2017-03-15', '2017-03-16',\n",
       "       '2017-03-17', '2017-03-18', '2017-03-19', '2017-03-20',\n",
       "       '2017-03-21', '2017-03-22', '2017-03-23', '2017-03-24',\n",
       "       '2017-03-25', '2017-03-26', '2017-03-27', '2017-03-28',\n",
       "       '2017-03-29', '2017-03-30'], dtype='datetime64[D]')"
      ]
     },
     "execution_count": 32,
     "metadata": {},
     "output_type": "execute_result"
    }
   ],
   "source": [
    "start_date = np.datetime64('2017-03-01')\n",
    "end_date = np.datetime64('2017-03-31')\n",
    "march_dates = np.arange(start_date,end_date)\n",
    "march_dates"
   ]
  },
  {
   "cell_type": "markdown",
   "id": "34eb3ebf",
   "metadata": {},
   "source": [
    "### Question 11\n",
    "\n",
    "Write a NumPy program to create 24 python datetime.datetime objects (single object for every hour), and then put it in a numpy array."
   ]
  },
  {
   "cell_type": "code",
   "execution_count": 75,
   "id": "705b235f",
   "metadata": {},
   "outputs": [
    {
     "data": {
      "text/plain": [
       "array([datetime.datetime(2000, 1, 1, 0, 0),\n",
       "       datetime.datetime(2000, 1, 1, 1, 0),\n",
       "       datetime.datetime(2000, 1, 1, 2, 0),\n",
       "       datetime.datetime(2000, 1, 1, 3, 0),\n",
       "       datetime.datetime(2000, 1, 1, 4, 0),\n",
       "       datetime.datetime(2000, 1, 1, 5, 0),\n",
       "       datetime.datetime(2000, 1, 1, 6, 0),\n",
       "       datetime.datetime(2000, 1, 1, 7, 0),\n",
       "       datetime.datetime(2000, 1, 1, 8, 0),\n",
       "       datetime.datetime(2000, 1, 1, 9, 0),\n",
       "       datetime.datetime(2000, 1, 1, 10, 0),\n",
       "       datetime.datetime(2000, 1, 1, 11, 0),\n",
       "       datetime.datetime(2000, 1, 1, 12, 0),\n",
       "       datetime.datetime(2000, 1, 1, 13, 0),\n",
       "       datetime.datetime(2000, 1, 1, 14, 0),\n",
       "       datetime.datetime(2000, 1, 1, 15, 0),\n",
       "       datetime.datetime(2000, 1, 1, 16, 0),\n",
       "       datetime.datetime(2000, 1, 1, 17, 0),\n",
       "       datetime.datetime(2000, 1, 1, 18, 0),\n",
       "       datetime.datetime(2000, 1, 1, 19, 0),\n",
       "       datetime.datetime(2000, 1, 1, 20, 0),\n",
       "       datetime.datetime(2000, 1, 1, 21, 0),\n",
       "       datetime.datetime(2000, 1, 1, 22, 0),\n",
       "       datetime.datetime(2000, 1, 1, 23, 0)], dtype=object)"
      ]
     },
     "execution_count": 75,
     "metadata": {},
     "output_type": "execute_result"
    }
   ],
   "source": [
    "from datetime import datetime, timedelta\n",
    "d = datetime(2000, 1, 1, 0, 0)\n",
    "dates_range = np.array([d + timedelta(hours=i) for i in range(24)])\n",
    "dates_range"
   ]
  },
  {
   "cell_type": "markdown",
   "id": "e34c59d5",
   "metadata": {},
   "source": [
    "### Question 12\n",
    "\n",
    "Write a NumPy program to concatenate element-wise two arrays of string.<br>\n",
    "<b>Example <\\b>\n",
    "Array1:<br>\n",
    "['Python' 'PHP']<br>\n",
    "Array2:<br>\n",
    "[' Java' ' C++']<br>\n",
    "new array:<br>\n",
    "['Python Java' 'PHP C++']<br>"
   ]
  },
  {
   "cell_type": "code",
   "execution_count": 110,
   "id": "6c6478b1",
   "metadata": {},
   "outputs": [
    {
     "data": {
      "text/plain": [
       "['Pythonjava', 'PHPc++']"
      ]
     },
     "execution_count": 110,
     "metadata": {},
     "output_type": "execute_result"
    }
   ],
   "source": [
    "def Concate(s1,s2):\n",
    "    if len(s1)!=len(s1):\n",
    "        print(\"Array is not of same size\")\n",
    "    else:\n",
    "        arr_s = [a + b for a, b in zip(s1,s2)]\n",
    "    return arr_s\n",
    "s1=np.array(['Python','PHP'],dtype='str')\n",
    "s2=np.array(['java','c++'],dtype='str')\n",
    "C=Concate(s1,s2)\n",
    "C\n"
   ]
  },
  {
   "cell_type": "code",
   "execution_count": null,
   "id": "96beed5a",
   "metadata": {},
   "outputs": [],
   "source": []
  }
 ],
 "metadata": {
  "kernelspec": {
   "display_name": "Python 3 (ipykernel)",
   "language": "python",
   "name": "python3"
  },
  "language_info": {
   "codemirror_mode": {
    "name": "ipython",
    "version": 3
   },
   "file_extension": ".py",
   "mimetype": "text/x-python",
   "name": "python",
   "nbconvert_exporter": "python",
   "pygments_lexer": "ipython3",
   "version": "3.11.5"
  }
 },
 "nbformat": 4,
 "nbformat_minor": 5
}
