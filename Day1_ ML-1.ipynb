{
 "cells": [
  {
   "cell_type": "markdown",
   "id": "3deabef3",
   "metadata": {},
   "source": [
    "## Question: 1\n",
    "Write a program which will find all such numbers which are divisible by 7 but are not a multiple of 5, between 2000 and 3200 (both included).\n",
    "The numbers obtained should be printed in a comma-separated sequence on a single line."
   ]
  },
  {
   "cell_type": "code",
   "execution_count": 38,
   "id": "e6c56834",
   "metadata": {},
   "outputs": [
    {
     "name": "stdout",
     "output_type": "stream",
     "text": [
      "2002,2009,2016,2023,2037,2044,2051,2058,2072,2079,2086,2093,2107,2114,2121,2128,2142,2149,2156,2163,2177,2184,2191,2198,2212,2219,2226,2233,2247,2254,2261,2268,2282,2289,2296,2303,2317,2324,2331,2338,2352,2359,2366,2373,2387,2394,2401,2408,2422,2429,2436,2443,2457,2464,2471,2478,2492,2499,2506,2513,2527,2534,2541,2548,2562,2569,2576,2583,2597,2604,2611,2618,2632,2639,2646,2653,2667,2674,2681,2688,2702,2709,2716,2723,2737,2744,2751,2758,2772,2779,2786,2793,2807,2814,2821,2828,2842,2849,2856,2863,2877,2884,2891,2898,2912,2919,2926,2933,2947,2954,2961,2968,2982,2989,2996,3003,3017,3024,3031,3038,3052,3059,3066,3073,3087,3094,3101,3108,3122,3129,3136,3143,3157,3164,3171,3178,3192,3199,"
     ]
    }
   ],
   "source": [
    "for i in range(2000,3201):\n",
    "    if i%7==0 and i%5!=0:\n",
    "               print(i,end=',')"
   ]
  },
  {
   "cell_type": "markdown",
   "id": "69c2c509",
   "metadata": {},
   "source": [
    "## Question:2\n",
    "Write a program which can compute the factorial of a given numbers.\n",
    "The results should be printed in a comma-separated sequence on a single line.\n",
    "Suppose the following input is supplied to the program:\n",
    "8\n",
    "Then, the output should be:\n",
    "40320"
   ]
  },
  {
   "cell_type": "code",
   "execution_count": 25,
   "id": "3e6ad773",
   "metadata": {},
   "outputs": [
    {
     "name": "stdout",
     "output_type": "stream",
     "text": [
      "40320\n"
     ]
    }
   ],
   "source": [
    "def fact(n):\n",
    "    result=1\n",
    "    for i in range(1,n+1):\n",
    "        result*=i\n",
    "    print(result)\n",
    "fact(8)\n"
   ]
  },
  {
   "cell_type": "markdown",
   "id": "339be9df",
   "metadata": {},
   "source": [
    "## Question:3\n",
    "With a given integral number n, write a program to generate a dictionary that contains (i, i*i) such that is an integral number between 1 and n (both included). and then the program should print the dictionary.\n",
    "Suppose the following input is supplied to the program:\n",
    "8\n",
    "Then, the output should be:\n",
    "{1: 1, 2: 4, 3: 9, 4: 16, 5: 25, 6: 36, 7: 49, 8: 64}"
   ]
  },
  {
   "cell_type": "code",
   "execution_count": 19,
   "id": "8c65ebc9",
   "metadata": {},
   "outputs": [
    {
     "name": "stdout",
     "output_type": "stream",
     "text": [
      "{1: 1, 2: 4, 3: 9, 4: 16, 5: 25, 6: 36, 7: 49, 8: 64}\n"
     ]
    }
   ],
   "source": [
    "def dic_generator(n):\n",
    "    dic_1={}\n",
    "    for i in range(1,n+1):\n",
    "        dic_1[i]=i*i\n",
    "    print(dic_1)\n",
    "dic_generator(8)"
   ]
  },
  {
   "cell_type": "markdown",
   "id": "f2e93727",
   "metadata": {},
   "source": [
    "## Question:4 \n",
    "Write a program which accepts a sequence of comma-separated numbers from console and generate a list and a tuple which contains every number.\n",
    "Suppose the following input is supplied to the program:\n",
    "34,67,55,33,12,98\n",
    "Then, the output should be:\n",
    "['34', '67', '55', '33', '12', '98']\n",
    "('34', '67', '55', '33', '12', '98')"
   ]
  },
  {
   "cell_type": "code",
   "execution_count": 21,
   "id": "4eab5207",
   "metadata": {},
   "outputs": [
    {
     "name": "stdout",
     "output_type": "stream",
     "text": [
      "['34', '67', '55', '33', '12', '98']\n",
      "('34', '67', '55', '33', '12', '98')\n"
     ]
    }
   ],
   "source": [
    "def list_tuple(n):\n",
    "    my_list=n.split(',')\n",
    "    print(my_list)\n",
    "    my_tuple=tuple(my_list)\n",
    "    print(my_tuple)\n",
    "n='34,67,55,33,12,98'\n",
    "list_tuple(n)"
   ]
  },
  {
   "cell_type": "markdown",
   "id": "aab53e0f",
   "metadata": {},
   "source": [
    "## Question:5\n",
    "Define a class which has at least two methods:\n",
    "getString: to get a string from console input\n",
    "printString: to print the string in upper case.\n",
    "Also please include simple test function to test the class methods."
   ]
  },
  {
   "cell_type": "code",
   "execution_count": 24,
   "id": "6c87b951",
   "metadata": {},
   "outputs": [
    {
     "name": "stdout",
     "output_type": "stream",
     "text": [
      "Enter the stringert\n",
      "ERT\n"
     ]
    }
   ],
   "source": [
    "class string_output():\n",
    "    def __init__(self):\n",
    "        self.s=''\n",
    "    def getString(self):\n",
    "        self.s=str(input(\"Enter the string\"))\n",
    "    def printString(self):\n",
    "        print(self.s.upper())\n",
    "a=string_output()\n",
    "a.getString()\n",
    "a.printString()"
   ]
  },
  {
   "cell_type": "markdown",
   "id": "4ecb2fad",
   "metadata": {},
   "source": [
    "## Question:6\n",
    "\n",
    "Write a program that calculates and prints the value according to the given formula:\n",
    "Q = Square root of [(2 * C * D)/H]\n",
    "Following are the fixed values of C and H:\n",
    "C is 50. H is 30.\n",
    "D is the variable whose values should be input to your program in a comma-separated sequence.\n",
    "Example\n",
    "Let us assume the following comma separated input sequence is given to the program:\n",
    "100,150,180\n",
    "The output of the program should be:\n",
    "18,22,24"
   ]
  },
  {
   "cell_type": "code",
   "execution_count": 31,
   "id": "55d7b443",
   "metadata": {},
   "outputs": [
    {
     "name": "stdout",
     "output_type": "stream",
     "text": [
      "Enter the numbers100,150,180\n",
      "18,22,24\n"
     ]
    }
   ],
   "source": [
    "from math import sqrt\n",
    "def Q(d):\n",
    "    c=50\n",
    "    h=30\n",
    "    return sqrt(2*c*d/h)\n",
    "d=input(\"Enter the numbers\").split(',')\n",
    "d = [str(round(Q(int(i)))) for i in d]  \n",
    "print(\",\".join(d))    "
   ]
  },
  {
   "cell_type": "markdown",
   "id": "f5d48451",
   "metadata": {},
   "source": [
    "## Question no:7\n",
    "Write a program which takes 2 digits, X,Y as input and generates a 2-dimensional array. The element value in the i-th row and j-th column of the array should be i*j.\n",
    "Note: i=0,1.., X-1; j=0,1,¡­Y-1.\n",
    "Example\n",
    "Suppose the following inputs are given to the program:\n",
    "3,5\n",
    "Then, the output of the program should be:\n",
    "[[0, 0, 0, 0, 0], [0, 1, 2, 3, 4], [0, 2, 4, 6, 8]] "
   ]
  },
  {
   "cell_type": "code",
   "execution_count": 37,
   "id": "bb07eac9",
   "metadata": {},
   "outputs": [
    {
     "name": "stdout",
     "output_type": "stream",
     "text": [
      "Enter the array size3,5\n",
      "[[0, 0, 0, 0, 0], [0, 1, 2, 3, 4], [0, 2, 4, 6, 8]]\n"
     ]
    }
   ],
   "source": [
    "X,Y = map(int,input(\"Enter the array size\").split(','))\n",
    "lst = [[i*j for j in range(y)] for i in range(x)]\n",
    "print(lst)"
   ]
  },
  {
   "cell_type": "markdown",
   "id": "5d84c754",
   "metadata": {},
   "source": [
    "## Question:8\n",
    "Write a program that accepts a comma separated sequence of words as input and prints the words in a comma-separated sequence after sorting them alphabetically.\n",
    "Suppose the following input is supplied to the program:\n",
    "without,hello,bag,world\n",
    "Then, the output should be:\n",
    "bag,hello,without,world\n"
   ]
  },
  {
   "cell_type": "code",
   "execution_count": 42,
   "id": "19a5bf93",
   "metadata": {},
   "outputs": [
    {
     "name": "stdout",
     "output_type": "stream",
     "text": [
      "Enter the Wordswithout,hello,bag,world\n",
      "bag,hello,without,world\n"
     ]
    }
   ],
   "source": [
    "def Sort_words():\n",
    "    a=input(\"Enter the Words\").split(',')\n",
    "    a.sort()\n",
    "    print(','.join(a))\n",
    "Sort_words()"
   ]
  },
  {
   "cell_type": "markdown",
   "id": "20e8637c",
   "metadata": {},
   "source": [
    "## Question:9\n",
    "Write a program that accepts sequence of lines as input and prints the lines after making all characters in the sentence capitalized.\n",
    "Suppose the following input is supplied to the program:\n",
    "\n",
    "Hello world\n",
    "\n",
    "Practice makes perfect\n",
    "\n",
    "Then, the output should be:\n",
    "\n",
    "HELLO WORLD\n",
    "\n",
    "PRACTICE MAKES PERFECT"
   ]
  },
  {
   "cell_type": "code",
   "execution_count": 47,
   "id": "0c034d3e",
   "metadata": {},
   "outputs": [
    {
     "name": "stdout",
     "output_type": "stream",
     "text": [
      "Hello\n",
      "how\n",
      "hey\n",
      "\n",
      "HELLO\n",
      "HOW\n",
      "HEY\n"
     ]
    }
   ],
   "source": [
    "lines = []\n",
    "while True:\n",
    "    s =input()\n",
    "    if s:\n",
    "        lines.append(s.upper())\n",
    "    else:\n",
    "        break\n",
    "\n",
    "for sen in lines:\n",
    "    print(sen)"
   ]
  },
  {
   "cell_type": "markdown",
   "id": "3ddb26ae",
   "metadata": {},
   "source": [
    "## Question:10\n",
    "Write a program that accepts a sequence of whitespace separated words as input and prints the words after removing all duplicate words and sorting them alphanumerically.\n",
    "Suppose the following input is supplied to the program:\n",
    "hello world and practice makes perfect and hello world again\n",
    "Then, the output should be:\n",
    "again and hello makes perfect practice world"
   ]
  },
  {
   "cell_type": "code",
   "execution_count": 51,
   "id": "6232e68f",
   "metadata": {},
   "outputs": [
    {
     "name": "stdout",
     "output_type": "stream",
     "text": [
      "Enter the wordshello world and practice makes perfect and hello world again\n",
      "['again', 'and', 'hello', 'makes', 'perfect', 'practice', 'world']\n"
     ]
    }
   ],
   "source": [
    "w=input(\"Enter the words\").split(' ')\n",
    "w=sorted(list(set(w)))\n",
    "print(w)"
   ]
  },
  {
   "cell_type": "markdown",
   "id": "3a62f4da",
   "metadata": {},
   "source": [
    "## Question:11\n",
    "Write a program which accepts a sequence of comma separated 4 digit binary numbers as its input and then check whether they are divisible by 5 or not. The numbers that are divisible by 5 are to be printed in a comma separated sequence.\n",
    "Example:\n",
    "0100,0011,1010,1001\n",
    "Then the output should be:\n",
    "1010\n",
    "Notes: Assume the data is input by console."
   ]
  },
  {
   "cell_type": "code",
   "execution_count": 45,
   "id": "51c93a1c",
   "metadata": {},
   "outputs": [
    {
     "name": "stdout",
     "output_type": "stream",
     "text": [
      "Enter the binary numbers 0100,0011,1010,1001\n",
      "['1010']\n"
     ]
    }
   ],
   "source": [
    "B=input(\"Enter the binary numbers\").split(',')\n",
    "B=[num for num in B if int(num,2)%5==0]\n",
    "print(B)"
   ]
  },
  {
   "cell_type": "markdown",
   "id": "a4450d7c",
   "metadata": {},
   "source": [
    "## Question:12\n",
    "Write a program, which will find all such numbers between 1000 and 3000 (both included) such that each digit of the number is an even number.\n",
    "The numbers obtained should be printed in a comma-separated sequence on a single line.\n"
   ]
  },
  {
   "cell_type": "code",
   "execution_count": 58,
   "id": "ad16375c",
   "metadata": {},
   "outputs": [
    {
     "name": "stdout",
     "output_type": "stream",
     "text": [
      "1000,1002,1004,1006,1008,1010,1012,1014,1016,1018,1020,1022,1024,1026,1028,1030,1032,1034,1036,1038,1040,1042,1044,1046,1048,1050,1052,1054,1056,1058,1060,1062,1064,1066,1068,1070,1072,1074,1076,1078,1080,1082,1084,1086,1088,1090,1092,1094,1096,1098,1100,1102,1104,1106,1108,1110,1112,1114,1116,1118,1120,1122,1124,1126,1128,1130,1132,1134,1136,1138,1140,1142,1144,1146,1148,1150,1152,1154,1156,1158,1160,1162,1164,1166,1168,1170,1172,1174,1176,1178,1180,1182,1184,1186,1188,1190,1192,1194,1196,1198,1200,1202,1204,1206,1208,1210,1212,1214,1216,1218,1220,1222,1224,1226,1228,1230,1232,1234,1236,1238,1240,1242,1244,1246,1248,1250,1252,1254,1256,1258,1260,1262,1264,1266,1268,1270,1272,1274,1276,1278,1280,1282,1284,1286,1288,1290,1292,1294,1296,1298,1300,1302,1304,1306,1308,1310,1312,1314,1316,1318,1320,1322,1324,1326,1328,1330,1332,1334,1336,1338,1340,1342,1344,1346,1348,1350,1352,1354,1356,1358,1360,1362,1364,1366,1368,1370,1372,1374,1376,1378,1380,1382,1384,1386,1388,1390,1392,1394,1396,1398,1400,1402,1404,1406,1408,1410,1412,1414,1416,1418,1420,1422,1424,1426,1428,1430,1432,1434,1436,1438,1440,1442,1444,1446,1448,1450,1452,1454,1456,1458,1460,1462,1464,1466,1468,1470,1472,1474,1476,1478,1480,1482,1484,1486,1488,1490,1492,1494,1496,1498,1500,1502,1504,1506,1508,1510,1512,1514,1516,1518,1520,1522,1524,1526,1528,1530,1532,1534,1536,1538,1540,1542,1544,1546,1548,1550,1552,1554,1556,1558,1560,1562,1564,1566,1568,1570,1572,1574,1576,1578,1580,1582,1584,1586,1588,1590,1592,1594,1596,1598,1600,1602,1604,1606,1608,1610,1612,1614,1616,1618,1620,1622,1624,1626,1628,1630,1632,1634,1636,1638,1640,1642,1644,1646,1648,1650,1652,1654,1656,1658,1660,1662,1664,1666,1668,1670,1672,1674,1676,1678,1680,1682,1684,1686,1688,1690,1692,1694,1696,1698,1700,1702,1704,1706,1708,1710,1712,1714,1716,1718,1720,1722,1724,1726,1728,1730,1732,1734,1736,1738,1740,1742,1744,1746,1748,1750,1752,1754,1756,1758,1760,1762,1764,1766,1768,1770,1772,1774,1776,1778,1780,1782,1784,1786,1788,1790,1792,1794,1796,1798,1800,1802,1804,1806,1808,1810,1812,1814,1816,1818,1820,1822,1824,1826,1828,1830,1832,1834,1836,1838,1840,1842,1844,1846,1848,1850,1852,1854,1856,1858,1860,1862,1864,1866,1868,1870,1872,1874,1876,1878,1880,1882,1884,1886,1888,1890,1892,1894,1896,1898,1900,1902,1904,1906,1908,1910,1912,1914,1916,1918,1920,1922,1924,1926,1928,1930,1932,1934,1936,1938,1940,1942,1944,1946,1948,1950,1952,1954,1956,1958,1960,1962,1964,1966,1968,1970,1972,1974,1976,1978,1980,1982,1984,1986,1988,1990,1992,1994,1996,1998,2000,2002,2004,2006,2008,2010,2012,2014,2016,2018,2020,2022,2024,2026,2028,2030,2032,2034,2036,2038,2040,2042,2044,2046,2048,2050,2052,2054,2056,2058,2060,2062,2064,2066,2068,2070,2072,2074,2076,2078,2080,2082,2084,2086,2088,2090,2092,2094,2096,2098,2100,2102,2104,2106,2108,2110,2112,2114,2116,2118,2120,2122,2124,2126,2128,2130,2132,2134,2136,2138,2140,2142,2144,2146,2148,2150,2152,2154,2156,2158,2160,2162,2164,2166,2168,2170,2172,2174,2176,2178,2180,2182,2184,2186,2188,2190,2192,2194,2196,2198,2200,2202,2204,2206,2208,2210,2212,2214,2216,2218,2220,2222,2224,2226,2228,2230,2232,2234,2236,2238,2240,2242,2244,2246,2248,2250,2252,2254,2256,2258,2260,2262,2264,2266,2268,2270,2272,2274,2276,2278,2280,2282,2284,2286,2288,2290,2292,2294,2296,2298,2300,2302,2304,2306,2308,2310,2312,2314,2316,2318,2320,2322,2324,2326,2328,2330,2332,2334,2336,2338,2340,2342,2344,2346,2348,2350,2352,2354,2356,2358,2360,2362,2364,2366,2368,2370,2372,2374,2376,2378,2380,2382,2384,2386,2388,2390,2392,2394,2396,2398,2400,2402,2404,2406,2408,2410,2412,2414,2416,2418,2420,2422,2424,2426,2428,2430,2432,2434,2436,2438,2440,2442,2444,2446,2448,2450,2452,2454,2456,2458,2460,2462,2464,2466,2468,2470,2472,2474,2476,2478,2480,2482,2484,2486,2488,2490,2492,2494,2496,2498,2500,2502,2504,2506,2508,2510,2512,2514,2516,2518,2520,2522,2524,2526,2528,2530,2532,2534,2536,2538,2540,2542,2544,2546,2548,2550,2552,2554,2556,2558,2560,2562,2564,2566,2568,2570,2572,2574,2576,2578,2580,2582,2584,2586,2588,2590,2592,2594,2596,2598,2600,2602,2604,2606,2608,2610,2612,2614,2616,2618,2620,2622,2624,2626,2628,2630,2632,2634,2636,2638,2640,2642,2644,2646,2648,2650,2652,2654,2656,2658,2660,2662,2664,2666,2668,2670,2672,2674,2676,2678,2680,2682,2684,2686,2688,2690,2692,2694,2696,2698,2700,2702,2704,2706,2708,2710,2712,2714,2716,2718,2720,2722,2724,2726,2728,2730,2732,2734,2736,2738,2740,2742,2744,2746,2748,2750,2752,2754,2756,2758,2760,2762,2764,2766,2768,2770,2772,2774,2776,2778,2780,2782,2784,2786,2788,2790,2792,2794,2796,2798,2800,2802,2804,2806,2808,2810,2812,2814,2816,2818,2820,2822,2824,2826,2828,2830,2832,2834,2836,2838,2840,2842,2844,2846,2848,2850,2852,2854,2856,2858,2860,2862,2864,2866,2868,2870,2872,2874,2876,2878,2880,2882,2884,2886,2888,2890,2892,2894,2896,2898,2900,2902,2904,2906,2908,2910,2912,2914,2916,2918,2920,2922,2924,2926,2928,2930,2932,2934,2936,2938,2940,2942,2944,2946,2948,2950,2952,2954,2956,2958,2960,2962,2964,2966,2968,2970,2972,2974,2976,2978,2980,2982,2984,2986,2988,2990,2992,2994,2996,2998,3000,"
     ]
    }
   ],
   "source": [
    "start=1000\n",
    "end=3000\n",
    "for i in range(start,end+1):\n",
    "    if i%2==0:\n",
    "        print(i,end=',')\n",
    "    "
   ]
  },
  {
   "cell_type": "markdown",
   "id": "715075a1",
   "metadata": {},
   "source": [
    "## Question:13\n",
    "Write a program that accepts a sentence and calculate the number of letters and digits.\n",
    "Suppose the following input is supplied to the program:\n",
    "hello world! 123\n",
    "Then, the output should be:\n",
    "LETTERS 10\n",
    "DIGITS 3"
   ]
  },
  {
   "cell_type": "code",
   "execution_count": 59,
   "id": "09160e05",
   "metadata": {},
   "outputs": [
    {
     "name": "stdout",
     "output_type": "stream",
     "text": [
      "Enter the Sentancehello world! 123\n",
      "Letters 10\n",
      "Digits 3\n"
     ]
    }
   ],
   "source": [
    "sentance=input('Enter the Sentance')\n",
    "letter,digits=0,0\n",
    "for i in sentance:\n",
    "    if i.isalpha():\n",
    "        letter+=1\n",
    "    if i.isnumeric():\n",
    "        digits+=1\n",
    "print(\"Letters\",letter)\n",
    "print(\"Digits\",digits)"
   ]
  },
  {
   "cell_type": "markdown",
   "id": "561bf00a",
   "metadata": {},
   "source": [
    "## Question:14\n",
    "Write a program that accepts a sentence and calculate the number of upper case letters and lower case letters.\n",
    "Suppose the following input is supplied to the program:\n",
    "Hello world!\n",
    "Then, the output should be:\n",
    "UPPER CASE 1\n",
    "LOWER CASE 9"
   ]
  },
  {
   "cell_type": "code",
   "execution_count": 62,
   "id": "c62d3028",
   "metadata": {},
   "outputs": [
    {
     "name": "stdout",
     "output_type": "stream",
     "text": [
      "Enter the Sentance:Hello world!\n",
      "Uppercase 1\n",
      "LowerCase 9\n"
     ]
    }
   ],
   "source": [
    "sentance=input('Enter the Sentance:')\n",
    "uppercase,lowercase=0,0\n",
    "for i in sentance:\n",
    "    if i.isupper():\n",
    "        uppercase+=1\n",
    "    if i.islower():\n",
    "        lowercase+=1\n",
    "print(\"Uppercase\",uppercase)\n",
    "print(\"LowerCase\",lowercase)"
   ]
  },
  {
   "cell_type": "markdown",
   "id": "9b2cf7c1",
   "metadata": {},
   "source": [
    "## Question:15\n",
    "Write a program that computes the value of a+aa+aaa+aaaa with a given digit as the value of a.\n",
    "Suppose the following input is supplied to the program:\n",
    "9\n",
    "Then, the output should be:\n",
    "11106"
   ]
  },
  {
   "cell_type": "code",
   "execution_count": 75,
   "id": "4bdc84b8",
   "metadata": {},
   "outputs": [
    {
     "name": "stdout",
     "output_type": "stream",
     "text": [
      "Enter the value: 9\n"
     ]
    },
    {
     "data": {
      "text/plain": [
       "11106"
      ]
     },
     "execution_count": 75,
     "metadata": {},
     "output_type": "execute_result"
    }
   ],
   "source": [
    "value = input(\"Enter the value: \")\n",
    "n1,n2,n3,n4 = value * 1,value * 2,value * 3,value * 4\n",
    "total = int(n1) + int(n2) + int(n3) + int(n4)\n",
    "total"
   ]
  },
  {
   "cell_type": "markdown",
   "id": "6825a188",
   "metadata": {},
   "source": [
    "## Question:16\n",
    "Use a list comprehension to square each odd number in a list. The list is input by a sequence of comma-separated numbers.\n",
    "Suppose the following input is supplied to the program:\n",
    "1,2,3,4,5,6,7,8,9\n",
    "Then, the output should be:\n",
    "1,3,5,7,9\n"
   ]
  },
  {
   "cell_type": "code",
   "execution_count": 84,
   "id": "3435f43c",
   "metadata": {},
   "outputs": [
    {
     "name": "stdout",
     "output_type": "stream",
     "text": [
      "Enter the number1,2,3,4,5,6,7\n",
      "[1, 3, 5, 7]\n"
     ]
    }
   ],
   "source": [
    "def Oddnum():\n",
    "    num=(input('Enter the number').split(','))\n",
    "    num_list=[int(i) for i in num]\n",
    "    list_com=[odd for odd in num_list if int(odd)%2!=0]\n",
    "    print(list_com)\n",
    "Oddnum()\n",
    "    "
   ]
  },
  {
   "cell_type": "markdown",
   "id": "8236138f",
   "metadata": {},
   "source": [
    "## Question 17\n",
    "Write a program that computes the net amount of a bank account based a transaction log from console input. The transaction log format is shown as following:\n",
    "\n",
    "D 100\n",
    "\n",
    "W 200\n",
    "\n",
    "D means deposit while W means withdrawal.\n",
    "Suppose the following input is supplied to the program:\n",
    "\n",
    "D 300\n",
    "\n",
    "D 300\n",
    "\n",
    "W 200\n",
    "\n",
    "D 100\n",
    "\n",
    "Then, the output should be:\n",
    "\n",
    "500"
   ]
  },
  {
   "cell_type": "code",
   "execution_count": 92,
   "id": "2abf93a6",
   "metadata": {},
   "outputs": [
    {
     "name": "stdout",
     "output_type": "stream",
     "text": [
      "Enter the transaction :D,300,D,300,W,200,D,100\n",
      "300\n"
     ]
    }
   ],
   "source": [
    "def Bank():\n",
    "    total=0\n",
    "    n=input(\"Enter the transaction :\").split(',')\n",
    "    status=n[0]\n",
    "    amount=int(n[1])\n",
    "    if status=='D':\n",
    "        total+=int(amount)\n",
    "    if status=='W':\n",
    "        total-=int(amount)\n",
    "    print(total)\n",
    "Bank()\n",
    "\n",
    "    "
   ]
  },
  {
   "cell_type": "markdown",
   "id": "aebef96b",
   "metadata": {},
   "source": [
    "## Question:19\n",
    "You are required to write a program to sort the (name, age, height) tuples by ascending order where name is string, age and height are numbers. The tuples are input by console. The sort criteria is:\n",
    "1: Sort based on name;\n",
    "\n",
    "2: Then sort based on age;\n",
    "\n",
    "3: Then sort by score.\n",
    "\n",
    "The priority is that name > age > score."
   ]
  },
  {
   "cell_type": "code",
   "execution_count": 94,
   "id": "26a85aec",
   "metadata": {},
   "outputs": [
    {
     "name": "stdout",
     "output_type": "stream",
     "text": [
      "Tom,19,80,John,20,90,Jony,17,91,Jony,17,93,Json,21,85\n",
      "\n",
      "[('Tom', '19', '80', 'John', '20', '90', 'Jony', '17', '91', 'Jony', '17', '93', 'Json', '21', '85')]\n"
     ]
    }
   ],
   "source": [
    "lst = []\n",
    "while True:\n",
    "    s = input().split(',')\n",
    "    if not s[0]:                          \n",
    "        break\n",
    "    lst.append(tuple(s))\n",
    "\n",
    "lst.sort(key= lambda x:(x[0],int(x[1]),int(x[2])))\n",
    "print(lst)\n"
   ]
  },
  {
   "cell_type": "markdown",
   "id": "b1493cb8",
   "metadata": {},
   "source": [
    "## Question 20\n",
    "Define a class with a generator which can iterate the numbers, which are divisible by 7, between a given range 0 and n."
   ]
  },
  {
   "cell_type": "code",
   "execution_count": 99,
   "id": "e86fefcb",
   "metadata": {},
   "outputs": [
    {
     "name": "stdout",
     "output_type": "stream",
     "text": [
      "32\n",
      "7\n",
      "14\n",
      "21\n",
      "28\n"
     ]
    }
   ],
   "source": [
    "class Generator():\n",
    "    def divisible_by(self,n):\n",
    "        for i in range(1,n+1):\n",
    "            if i%7==0:\n",
    "                yield i\n",
    "G=Generator()\n",
    "values=G.divisible_by(int(input()))\n",
    "for generator in values:\n",
    "    print(generator)\n",
    "                      \n",
    "            \n",
    "        "
   ]
  },
  {
   "cell_type": "markdown",
   "id": "93f32d07",
   "metadata": {},
   "source": [
    "## Question 23\n",
    "Write a method which can calculate square value of number"
   ]
  },
  {
   "cell_type": "code",
   "execution_count": 100,
   "id": "b8d7039c",
   "metadata": {},
   "outputs": [
    {
     "name": "stdout",
     "output_type": "stream",
     "text": [
      "4\n"
     ]
    },
    {
     "data": {
      "text/plain": [
       "16"
      ]
     },
     "execution_count": 100,
     "metadata": {},
     "output_type": "execute_result"
    }
   ],
   "source": [
    "def Sqr_values(n):\n",
    "    return n**2\n",
    "n=int(input())\n",
    "Sqr_values(n)"
   ]
  },
  {
   "cell_type": "markdown",
   "id": "3995100c",
   "metadata": {},
   "source": [
    "## Question 24\n",
    "\n",
    "Python has many built-in functions, and if you do not know how to use it, you can read document online or find some books. But Python has a built-in document function for every built-in functions.\n",
    "\n",
    "Please write a program to print some Python built-in functions documents, such as abs(), int(), raw_input()\n",
    "\n",
    "And add document for your own function"
   ]
  },
  {
   "cell_type": "code",
   "execution_count": 103,
   "id": "f4bb9e26",
   "metadata": {},
   "outputs": [
    {
     "name": "stdout",
     "output_type": "stream",
     "text": [
      "1.25\n"
     ]
    }
   ],
   "source": [
    "x = abs(-1.25)\n",
    "print(x)"
   ]
  },
  {
   "cell_type": "code",
   "execution_count": 105,
   "id": "fb2f24d6",
   "metadata": {},
   "outputs": [
    {
     "name": "stdout",
     "output_type": "stream",
     "text": [
      "-7\n"
     ]
    }
   ],
   "source": [
    "i=int(-7.35)\n",
    "print(i)"
   ]
  },
  {
   "cell_type": "code",
   "execution_count": 107,
   "id": "cd2217b2",
   "metadata": {},
   "outputs": [],
   "source": [
    "# raw_input was used in python 2.O "
   ]
  },
  {
   "cell_type": "markdown",
   "id": "5837d6ef",
   "metadata": {},
   "source": [
    "## Question 25\n",
    "Define a class, which have a class parameter and have a same instance parameter"
   ]
  },
  {
   "cell_type": "code",
   "execution_count": 122,
   "id": "3ac9d19e",
   "metadata": {},
   "outputs": [
    {
     "name": "stdout",
     "output_type": "stream",
     "text": [
      "24\n"
     ]
    },
    {
     "data": {
      "text/plain": [
       "23"
      ]
     },
     "execution_count": 122,
     "metadata": {},
     "output_type": "execute_result"
    }
   ],
   "source": [
    "class Demo():\n",
    "    age=24\n",
    "    def __init__(self,age=None):\n",
    "        self.age=age\n",
    "d=Demo(23)\n",
    "print(Demo.age)\n",
    "d.age"
   ]
  },
  {
   "cell_type": "markdown",
   "id": "79fb0a51",
   "metadata": {},
   "source": [
    "## Question:26\n",
    "Define a function which can compute the sum of two numbers."
   ]
  },
  {
   "cell_type": "code",
   "execution_count": 3,
   "id": "91eb939a",
   "metadata": {},
   "outputs": [
    {
     "name": "stdout",
     "output_type": "stream",
     "text": [
      "5\n"
     ]
    }
   ],
   "source": [
    "def Two_sum(a,b):\n",
    "    return a+b\n",
    "print(Two_sum(2,3))"
   ]
  },
  {
   "cell_type": "markdown",
   "id": "fa4a5722",
   "metadata": {},
   "source": [
    "## Question:27\n",
    "Define a function that can convert a integer into a string and print it in console."
   ]
  },
  {
   "cell_type": "code",
   "execution_count": 4,
   "id": "de1ccc9e",
   "metadata": {},
   "outputs": [
    {
     "data": {
      "text/plain": [
       "'8'"
      ]
     },
     "execution_count": 4,
     "metadata": {},
     "output_type": "execute_result"
    }
   ],
   "source": [
    "def Int_string(n):\n",
    "    return str(n)\n",
    "Int_string(8)"
   ]
  },
  {
   "cell_type": "code",
   "execution_count": 5,
   "id": "cae4a7f0",
   "metadata": {},
   "outputs": [],
   "source": [
    "# Question no:28 is same like Question no:27"
   ]
  },
  {
   "cell_type": "markdown",
   "id": "aaa12c33",
   "metadata": {},
   "source": [
    "## Question no:29\n",
    "Define a function that can receive two integral numbers in string form and compute their sum and then print it in console.\n"
   ]
  },
  {
   "cell_type": "code",
   "execution_count": 7,
   "id": "12b558b8",
   "metadata": {},
   "outputs": [
    {
     "name": "stdout",
     "output_type": "stream",
     "text": [
      "2\n",
      "3\n"
     ]
    },
    {
     "data": {
      "text/plain": [
       "5"
      ]
     },
     "execution_count": 7,
     "metadata": {},
     "output_type": "execute_result"
    }
   ],
   "source": [
    "def String_sum():\n",
    "    a=input()\n",
    "    b=input()\n",
    "    return int(a)+int(b)\n",
    "String_sum()"
   ]
  },
  {
   "cell_type": "markdown",
   "id": "78ee15a3",
   "metadata": {},
   "source": [
    "## Question no:30\n",
    "Define a function that can accept two strings as input and concatenate them and then print it in console.\n"
   ]
  },
  {
   "cell_type": "code",
   "execution_count": 8,
   "id": "e52910d9",
   "metadata": {},
   "outputs": [
    {
     "name": "stdout",
     "output_type": "stream",
     "text": [
      "2\n",
      "3\n"
     ]
    },
    {
     "data": {
      "text/plain": [
       "'23'"
      ]
     },
     "execution_count": 8,
     "metadata": {},
     "output_type": "execute_result"
    }
   ],
   "source": [
    "def String_con():\n",
    "    a=input()\n",
    "    b=input()\n",
    "    return (a)+(b)\n",
    "String_con()"
   ]
  },
  {
   "cell_type": "markdown",
   "id": "c8804635",
   "metadata": {},
   "source": [
    "## Question no: 31\n",
    "Define a function that can accept two strings as input and print the string with maximum length in console. If two strings have the same length, then the function should print al l strings line by line.\n"
   ]
  },
  {
   "cell_type": "code",
   "execution_count": 10,
   "id": "26d30ebc",
   "metadata": {},
   "outputs": [
    {
     "name": "stdout",
     "output_type": "stream",
     "text": [
      "one\n",
      "three\n",
      "Second String : three\n"
     ]
    }
   ],
   "source": [
    "def String_max():\n",
    "    a=input()\n",
    "    b=input()\n",
    "    str1=len(a)\n",
    "    str2=len(b)\n",
    "    if str1>str2:\n",
    "        print('first string :',a)\n",
    "    if str1<str2:\n",
    "        print('Second String :',b)\n",
    "    else:\n",
    "        print(a)\n",
    "        print(b)\n",
    "String_max()"
   ]
  },
  {
   "cell_type": "markdown",
   "id": "d7805268",
   "metadata": {},
   "source": [
    "## Question no:32\n",
    "Define a function that can accept an integer number as input and print the \"It is an even number\" if the number is even, otherwise print \"It is an odd number\"."
   ]
  },
  {
   "cell_type": "code",
   "execution_count": 18,
   "id": "d765f917",
   "metadata": {},
   "outputs": [
    {
     "name": "stdout",
     "output_type": "stream",
     "text": [
      "11\n",
      "Odd\n"
     ]
    }
   ],
   "source": [
    "def EvenOrOdd():\n",
    "    n=int(input())\n",
    "    if n%2==0:\n",
    "        print(\"Even\")\n",
    "    else:\n",
    "        print('Odd')\n",
    "EvenOrOdd()\n",
    "    "
   ]
  },
  {
   "cell_type": "markdown",
   "id": "ec40a88d",
   "metadata": {},
   "source": [
    "## Question no: 34\n",
    "Define a function which can print a dictionary where the keys are numbers between 1 and 20 (both included) and the values are square of keys."
   ]
  },
  {
   "cell_type": "code",
   "execution_count": 19,
   "id": "9c37f382",
   "metadata": {},
   "outputs": [
    {
     "name": "stdout",
     "output_type": "stream",
     "text": [
      "{1: 1, 2: 4, 3: 9, 4: 16, 5: 25, 6: 36, 7: 49, 8: 64, 9: 81, 10: 100, 11: 121, 12: 144, 13: 169, 14: 196, 15: 225, 16: 256, 17: 289, 18: 324, 19: 361, 20: 400}\n"
     ]
    }
   ],
   "source": [
    "def Dict_Square():\n",
    "    dict_1={}\n",
    "    for i in range(1,21):\n",
    "        dict_1[i]=i**2\n",
    "    print(dict_1)\n",
    "Dict_Square()\n",
    "    "
   ]
  },
  {
   "cell_type": "markdown",
   "id": "c9f1064a",
   "metadata": {},
   "source": [
    "## Question no:35\n",
    "Define a function which can generate a dictionary where the keys are numbers between 1 and 20 (both included) and the values are square of keys. The function should just print the values only."
   ]
  },
  {
   "cell_type": "code",
   "execution_count": 22,
   "id": "e4432c77",
   "metadata": {},
   "outputs": [
    {
     "name": "stdout",
     "output_type": "stream",
     "text": [
      "dict_values([1, 4, 9, 16, 25, 36, 49, 64, 81, 100, 121, 144, 169, 196, 225, 256, 289, 324, 361, 400])\n"
     ]
    }
   ],
   "source": [
    "def Dict_Square_key():\n",
    "    dict_1={}\n",
    "    for i in range(1,21):\n",
    "        dict_1[i]=i**2\n",
    "    print(dict_1.values())\n",
    "Dict_Square_key()"
   ]
  },
  {
   "cell_type": "markdown",
   "id": "2e54b22b",
   "metadata": {},
   "source": [
    "## Question no:36\n",
    "Define a function which can generate a dictionary where the keys are numbers between 1 and 20 (both included) and the values are square of keys. The function should just print the keys only.\n"
   ]
  },
  {
   "cell_type": "code",
   "execution_count": 21,
   "id": "03a1992a",
   "metadata": {},
   "outputs": [
    {
     "name": "stdout",
     "output_type": "stream",
     "text": [
      "dict_keys([1, 2, 3, 4, 5, 6, 7, 8, 9, 10, 11, 12, 13, 14, 15, 16, 17, 18, 19, 20])\n"
     ]
    }
   ],
   "source": [
    "def Dict_Square_key():\n",
    "    dict_1={}\n",
    "    for i in range(1,21):\n",
    "        dict_1[i]=i**2\n",
    "    print(dict_1.keys())\n",
    "Dict_Square_key()"
   ]
  },
  {
   "cell_type": "markdown",
   "id": "3d1ecc4b",
   "metadata": {},
   "source": [
    "## Question no:37\n",
    "Define a function which can generate and print a list where the values are square of numbers between 1 and 20 (both included)."
   ]
  },
  {
   "cell_type": "code",
   "execution_count": 23,
   "id": "6186a524",
   "metadata": {},
   "outputs": [
    {
     "name": "stdout",
     "output_type": "stream",
     "text": [
      "[1, 4, 9, 16, 25, 36, 49, 64, 81, 100, 121, 144, 169, 196, 225, 256, 289, 324, 361, 400]\n"
     ]
    }
   ],
   "source": [
    "def Square_list():\n",
    "    list_square=[]\n",
    "    for i in range(1,21):\n",
    "        list_square.append(i**2)\n",
    "    print(list_square)\n",
    "Square_list()"
   ]
  },
  {
   "cell_type": "markdown",
   "id": "9601f250",
   "metadata": {},
   "source": [
    "## Question no:38\n",
    "Define a function which can generate a list where the values are square of numbers between 1 and 20 (both included). Then the function needs to print the first 5 elements in the list."
   ]
  },
  {
   "cell_type": "code",
   "execution_count": 25,
   "id": "6410d0c0",
   "metadata": {},
   "outputs": [
    {
     "name": "stdout",
     "output_type": "stream",
     "text": [
      "[1, 4, 9, 16, 25]\n"
     ]
    }
   ],
   "source": [
    "def Square_list_slice():\n",
    "    list_square=[]\n",
    "    for i in range(1,21):\n",
    "        list_square.append(i**2)\n",
    "    print(list_square[0:5])\n",
    "Square_list_slice()"
   ]
  },
  {
   "cell_type": "markdown",
   "id": "828d1961",
   "metadata": {},
   "source": [
    "## Question no: 39\n",
    "Define a function which can generate a list where the values are square of numbers between 1 and 20 (both included). Then the function needs to print the last 5 elements in the list."
   ]
  },
  {
   "cell_type": "code",
   "execution_count": 32,
   "id": "a09cdd98",
   "metadata": {},
   "outputs": [
    {
     "name": "stdout",
     "output_type": "stream",
     "text": [
      "[256, 289, 324, 361, 400]\n"
     ]
    }
   ],
   "source": [
    "def Square_list_slice_last():\n",
    "    list_square=[]\n",
    "    for i in range(1,21):\n",
    "        list_square.append(i**2)\n",
    "    print(list_square[-5:])\n",
    "Square_list_slice_last()"
   ]
  },
  {
   "cell_type": "markdown",
   "id": "c95f80a8",
   "metadata": {},
   "source": [
    "## Question no:40\n",
    "Define a function which can generate a list where the values are square of numbers between 1 and 20 (both included). Then the function needs to print all values except the first 5 elements in the list."
   ]
  },
  {
   "cell_type": "code",
   "execution_count": 33,
   "id": "6e8969c6",
   "metadata": {},
   "outputs": [
    {
     "name": "stdout",
     "output_type": "stream",
     "text": [
      "[36, 49, 64, 81, 100, 121, 144, 169, 196, 225, 256, 289, 324, 361, 400]\n"
     ]
    }
   ],
   "source": [
    "def Square_list_slice_first():\n",
    "    list_square=[]\n",
    "    for i in range(1,21):\n",
    "        list_square.append(i**2)\n",
    "    print(list_square[5:])\n",
    "Square_list_slice_first()"
   ]
  },
  {
   "cell_type": "markdown",
   "id": "fe4c27b4",
   "metadata": {},
   "source": [
    "## Question no:41\n",
    "Define a function which can generate and print a tuple where the value are square of numbers between 1 and 20 (both included). \n"
   ]
  },
  {
   "cell_type": "code",
   "execution_count": 35,
   "id": "45e1899d",
   "metadata": {},
   "outputs": [
    {
     "name": "stdout",
     "output_type": "stream",
     "text": [
      "(1, 4, 9, 16, 25, 36, 49, 64, 81, 100, 121, 144, 169, 196, 225, 256, 289, 324, 361, 400)\n"
     ]
    }
   ],
   "source": [
    "def Square_tuple():\n",
    "    list_square=[]\n",
    "    for i in range(1,21):\n",
    "        list_square.append(i**2)\n",
    "    tuple_=tuple(list_square)\n",
    "    print(tuple_)\n",
    "Square_tuple()"
   ]
  },
  {
   "cell_type": "markdown",
   "id": "fd1c1b0d",
   "metadata": {},
   "source": [
    "## Question no:42\n",
    "With a given tuple (1,2,3,4,5,6,7,8,9,10), write a program to print the first half values in one line and the last half values in one line. \n"
   ]
  },
  {
   "cell_type": "code",
   "execution_count": 39,
   "id": "bcb3d267",
   "metadata": {},
   "outputs": [
    {
     "name": "stdout",
     "output_type": "stream",
     "text": [
      "(1, 2, 3, 4, 5)\n",
      "(6, 7, 8, 9, 10)\n"
     ]
    }
   ],
   "source": [
    "def Line_tuple():\n",
    "    tuple_2=(1,2,3,4,5,6,7,8,9,10)\n",
    "    print(tuple_2[:5])\n",
    "    print(tuple_2[-5:])\n",
    "    \n",
    "\n",
    "Line_tuple()  \n",
    " \n"
   ]
  },
  {
   "cell_type": "markdown",
   "id": "612884e2",
   "metadata": {},
   "source": [
    "## Question no:43\n",
    "Write a program to generate and print another tuple whose values are even numbers in the given tuple (1,2,3,4,5,6,7,8,9,10). "
   ]
  },
  {
   "cell_type": "code",
   "execution_count": 41,
   "id": "d6e2813e",
   "metadata": {},
   "outputs": [
    {
     "name": "stdout",
     "output_type": "stream",
     "text": [
      "(2, 4, 6, 8, 10)\n"
     ]
    }
   ],
   "source": [
    "def Even_tuple():\n",
    "    tuple_2=(1,2,3,4,5,6,7,8,9,10)\n",
    "    li=[]\n",
    "    for i in range(10):\n",
    "        if tuple_2[i]%2==0:\n",
    "            li.append(tuple_2[i])\n",
    "    tuple_3=tuple(li)\n",
    "    print(tuple_3)\n",
    "    \n",
    "    \n",
    "\n",
    "Even_tuple()  "
   ]
  },
  {
   "cell_type": "markdown",
   "id": "1c922775",
   "metadata": {},
   "source": [
    "## Question no:44\n",
    "Write a program which accepts a string as input to print \"Yes\" if the string is \"yes\" or \"YES\" or \"Yes\", otherwise print \"No\"."
   ]
  },
  {
   "cell_type": "code",
   "execution_count": 47,
   "id": "1984059d",
   "metadata": {},
   "outputs": [
    {
     "name": "stdout",
     "output_type": "stream",
     "text": [
      "No\n"
     ]
    }
   ],
   "source": [
    "st='YEs'\n",
    "if st=='Yes' or st=='yes' or st=='YES':\n",
    "    print(\"Yes\")\n",
    "else:\n",
    "    print('No')"
   ]
  },
  {
   "cell_type": "markdown",
   "id": "32b28462",
   "metadata": {},
   "source": [
    "## Question no:45\n",
    "Write a program which can filter even numbers in a list by using filter function. The list is: [1,2,3,4,5,6,7,8,9,10]."
   ]
  },
  {
   "cell_type": "code",
   "execution_count": 61,
   "id": "80d52509",
   "metadata": {},
   "outputs": [
    {
     "name": "stdout",
     "output_type": "stream",
     "text": [
      "<filter object at 0x00000262A014B3D0>\n"
     ]
    }
   ],
   "source": [
    "my_list = [1,2,3,4,5,6,7,8,9,10] \n",
    "result =filter(lambda x: (x % 2 == 0), my_list)  \n",
    "print(result)  \n",
    "       \n"
   ]
  },
  {
   "cell_type": "code",
   "execution_count": null,
   "id": "b993ea32",
   "metadata": {},
   "outputs": [],
   "source": []
  }
 ],
 "metadata": {
  "kernelspec": {
   "display_name": "Python 3 (ipykernel)",
   "language": "python",
   "name": "python3"
  },
  "language_info": {
   "codemirror_mode": {
    "name": "ipython",
    "version": 3
   },
   "file_extension": ".py",
   "mimetype": "text/x-python",
   "name": "python",
   "nbconvert_exporter": "python",
   "pygments_lexer": "ipython3",
   "version": "3.11.5"
  }
 },
 "nbformat": 4,
 "nbformat_minor": 5
}
